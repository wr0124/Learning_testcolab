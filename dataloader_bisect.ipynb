{
  "nbformat": 4,
  "nbformat_minor": 0,
  "metadata": {
    "colab": {
      "provenance": [],
      "authorship_tag": "ABX9TyNVd13Zu5OHWnA32wV7DQbj",
      "include_colab_link": true
    },
    "kernelspec": {
      "name": "python3",
      "display_name": "Python 3"
    },
    "language_info": {
      "name": "python"
    }
  },
  "cells": [
    {
      "cell_type": "markdown",
      "metadata": {
        "id": "view-in-github",
        "colab_type": "text"
      },
      "source": [
        "<a href=\"https://colab.research.google.com/github/wr0124/Learning_testcolab/blob/main/dataloader_bisect.ipynb\" target=\"_parent\"><img src=\"https://colab.research.google.com/assets/colab-badge.svg\" alt=\"Open In Colab\"/></a>"
      ]
    },
    {
      "cell_type": "code",
      "execution_count": 26,
      "metadata": {
        "id": "vk3goAYWwhDB",
        "colab": {
          "base_uri": "https://localhost:8080/"
        },
        "outputId": "90c25500-7a9c-4bda-e9cd-66783f189744"
      },
      "outputs": [
        {
          "output_type": "stream",
          "name": "stdout",
          "text": [
            "1\n",
            "12\n"
          ]
        }
      ],
      "source": [
        "cumulative_sums=[4,12,24,24,24,25]\n",
        "x=5\n",
        "import bisect\n",
        "import random\n",
        "index=bisect.bisect_left(cumulative_sums, x )\n",
        "print(index )\n",
        "\n",
        "print(cumulative_sums[index])"
      ]
    },
    {
      "cell_type": "code",
      "source": [
        "cumulative_sums=[4,12,24,24,24,25]\n",
        "range_A = cumulative_sums[-1]\n",
        "index_A = random.randint(0, range_A - 1)\n",
        "selected_index = bisect.bisect_left(cumulative_sums, index_A)\n",
        "\n",
        "if selected_index > 0:\n",
        "  path_num = index_A - cumulative_sums[selected_index - 1]\n",
        "else:\n",
        "  path_num = index_A\n",
        "\n",
        "\n",
        "print(\"range_A\", range_A)\n",
        "print(\"index_A\",index_A)\n",
        "print(\"select \",selected_index,  cumulative_sums[selected_index])\n",
        "print(\"exact \",path_num)\n"
      ],
      "metadata": {
        "colab": {
          "base_uri": "https://localhost:8080/"
        },
        "id": "LqdYF6RuTYMP",
        "outputId": "69cd6fec-1948-4f91-8c78-f497a13ac545"
      },
      "execution_count": 42,
      "outputs": [
        {
          "output_type": "stream",
          "name": "stdout",
          "text": [
            "range_A 25\n",
            "index_A 10\n",
            "select  1 12\n",
            "exact  6\n"
          ]
        }
      ]
    }
  ]
}